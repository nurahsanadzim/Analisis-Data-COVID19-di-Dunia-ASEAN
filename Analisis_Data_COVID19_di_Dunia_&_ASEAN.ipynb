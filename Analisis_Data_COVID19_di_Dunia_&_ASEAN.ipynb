{
  "nbformat": 4,
  "nbformat_minor": 0,
  "metadata": {
    "colab": {
      "name": "Analisis Data COVID19 di Dunia & ASEAN",
      "provenance": [],
      "collapsed_sections": [],
      "authorship_tag": "ABX9TyM3UvBYlfnnmRH/Ab1C5Lh8",
      "include_colab_link": true
    },
    "kernelspec": {
      "name": "python3",
      "display_name": "Python 3"
    }
  },
  "cells": [
    {
      "cell_type": "markdown",
      "metadata": {
        "id": "view-in-github",
        "colab_type": "text"
      },
      "source": [
        "<a href=\"https://colab.research.google.com/github/nurahsanadzim/Analisis-Data-COVID19-di-Dunia-ASEAN/blob/main/Analisis_Data_COVID19_di_Dunia_%26_ASEAN.ipynb\" target=\"_parent\"><img src=\"https://colab.research.google.com/assets/colab-badge.svg\" alt=\"Open In Colab\"/></a>"
      ]
    },
    {
      "cell_type": "code",
      "metadata": {
        "id": "kV8tunHDystS"
      },
      "source": [
        "import json\r\n",
        "import numpy as np\r\n",
        "import pandas as pd\r\n",
        "import requests\r\n",
        "import matplotlib.pyplot as plt"
      ],
      "execution_count": 7,
      "outputs": []
    },
    {
      "cell_type": "code",
      "metadata": {
        "id": "UNHtAVy7zJpU"
      },
      "source": [
        "def get_json(api_url):\r\n",
        "\tresponse = requests.get(api_url)\r\n",
        "\tif response.status_code == 200:\r\n",
        "\t\treturn json.loads(response.content.decode('utf-8'))\r\n",
        "\telse:\r\n",
        "\t\treturn None"
      ],
      "execution_count": 8,
      "outputs": []
    },
    {
      "cell_type": "code",
      "metadata": {
        "colab": {
          "base_uri": "https://localhost:8080/"
        },
        "id": "Cy5KX8h2zD1k",
        "outputId": "5a7871be-c8ff-4ad3-8896-47570840cf53"
      },
      "source": [
        "countries_url = 'https://covid19-api.org/api/countries'\r\n",
        "df_countries = pd.io.json.json_normalize(get_json(countries_url))\r\n",
        "df_countries = df_countries.rename(columns={'alpha2': 'country'})[['name','country']]\r\n",
        "\r\n",
        "print(df_countries.head())"
      ],
      "execution_count": 9,
      "outputs": [
        {
          "output_type": "stream",
          "text": [
            "          name country\n",
            "0  Afghanistan      AF\n",
            "1      Albania      AL\n",
            "2      Algeria      DZ\n",
            "3      Andorra      AD\n",
            "4       Angola      AO\n"
          ],
          "name": "stdout"
        },
        {
          "output_type": "stream",
          "text": [
            "/usr/local/lib/python3.7/dist-packages/ipykernel_launcher.py:2: FutureWarning: pandas.io.json.json_normalize is deprecated, use pandas.json_normalize instead\n",
            "  \n"
          ],
          "name": "stderr"
        }
      ]
    },
    {
      "cell_type": "code",
      "metadata": {
        "colab": {
          "base_uri": "https://localhost:8080/"
        },
        "id": "YcA-Fqa_zW_9",
        "outputId": "9c5e1af0-a48e-4711-8af5-e45e534e5b0d"
      },
      "source": [
        "record_date = '2020-08-17'\r\n",
        "covid_url = 'https://covid19-api.org/api/status?date=' + record_date\r\n",
        "df_covid_worldwide = pd.io.json.json_normalize(get_json(covid_url))\r\n",
        "\r\n",
        "print(df_covid_worldwide.head())"
      ],
      "execution_count": 10,
      "outputs": [
        {
          "output_type": "stream",
          "text": [
            "  country          last_update    cases  deaths  recovered\n",
            "0      US  2020-08-16T23:27:50  5401167  170019    1833067\n",
            "1      BR  2020-08-16T23:27:50  3340197  107852    2655017\n",
            "2      IN  2020-08-16T23:27:50  2589682   49980    1862258\n",
            "3      RU  2020-08-16T23:27:50   920719   15653     731444\n",
            "4      ZA  2020-08-16T23:27:50   587345   11839     472377\n"
          ],
          "name": "stdout"
        },
        {
          "output_type": "stream",
          "text": [
            "/usr/local/lib/python3.7/dist-packages/ipykernel_launcher.py:3: FutureWarning: pandas.io.json.json_normalize is deprecated, use pandas.json_normalize instead\n",
            "  This is separate from the ipykernel package so we can avoid doing imports until\n"
          ],
          "name": "stderr"
        }
      ]
    },
    {
      "cell_type": "code",
      "metadata": {
        "id": "6mSO1TLKzivU"
      },
      "source": [
        "df_covid_worldwide['last_update'] = pd.to_datetime(df_covid_worldwide['last_update'], format='%Y-%m-%d %H:%M:%S')\r\n",
        "df_covid_worldwide['last_update'] = df_covid_worldwide['last_update'].apply(lambda x: x.date())"
      ],
      "execution_count": 11,
      "outputs": []
    },
    {
      "cell_type": "code",
      "metadata": {
        "colab": {
          "base_uri": "https://localhost:8080/"
        },
        "id": "WQl2Wy2Qzk3k",
        "outputId": "d4e81a08-24c7-4de6-b797-9dad36c624b8"
      },
      "source": [
        "countries_url = 'https://covid19-api.org/api/countries'\r\n",
        "df_countries = pd.io.json.json_normalize(get_json(countries_url))\r\n",
        "df_countries = df_countries.rename(columns={'alpha2': 'country'})[['name','country']]\r\n",
        "\r\n",
        "print(df_countries.head())"
      ],
      "execution_count": 12,
      "outputs": [
        {
          "output_type": "stream",
          "text": [
            "          name country\n",
            "0  Afghanistan      AF\n",
            "1      Albania      AL\n",
            "2      Algeria      DZ\n",
            "3      Andorra      AD\n",
            "4       Angola      AO\n"
          ],
          "name": "stdout"
        },
        {
          "output_type": "stream",
          "text": [
            "/usr/local/lib/python3.7/dist-packages/ipykernel_launcher.py:2: FutureWarning: pandas.io.json.json_normalize is deprecated, use pandas.json_normalize instead\n",
            "  \n"
          ],
          "name": "stderr"
        }
      ]
    },
    {
      "cell_type": "code",
      "metadata": {
        "colab": {
          "base_uri": "https://localhost:8080/"
        },
        "id": "IY4lXHKZz5l1",
        "outputId": "02737c82-4c4e-4586-e5b3-0e77babcd3e3"
      },
      "source": [
        "df_covid_denormalized = pd.merge(df_covid_worldwide , df_countries, on='country')\r\n",
        "print(df_covid_denormalized.head())"
      ],
      "execution_count": 13,
      "outputs": [
        {
          "output_type": "stream",
          "text": [
            "  country last_update    cases  deaths  recovered                      name\n",
            "0      US  2020-08-16  5401167  170019    1833067  United States of America\n",
            "1      BR  2020-08-16  3340197  107852    2655017                    Brazil\n",
            "2      IN  2020-08-16  2589682   49980    1862258                     India\n",
            "3      RU  2020-08-16   920719   15653     731444        Russian Federation\n",
            "4      ZA  2020-08-16   587345   11839     472377              South Africa\n"
          ],
          "name": "stdout"
        }
      ]
    },
    {
      "cell_type": "code",
      "metadata": {
        "id": "lRfIrIl40I_U"
      },
      "source": [
        "df_covid_denormalized['fatality_ratio'] = df_covid_denormalized['deaths']/df_covid_denormalized['cases']"
      ],
      "execution_count": 14,
      "outputs": []
    },
    {
      "cell_type": "code",
      "metadata": {
        "id": "_8dOBoB50Mw8"
      },
      "source": [
        "df_top_20_fatality_rate = df_covid_denormalized.sort_values(by='fatality_ratio', ascending=False).head(20)"
      ],
      "execution_count": 15,
      "outputs": []
    },
    {
      "cell_type": "code",
      "metadata": {
        "colab": {
          "base_uri": "https://localhost:8080/",
          "height": 605
        },
        "id": "Kh_g-Kaj0RNE",
        "outputId": "1afdcde7-e14c-4e4d-c4e3-b8bbe94707e3"
      },
      "source": [
        "plt.figure(figsize=(20, 8))\r\n",
        "x = df_top_20_fatality_rate['name']\r\n",
        "y = df_top_20_fatality_rate['fatality_ratio']\r\n",
        "plt.bar(x,y)\r\n",
        "plt.xlabel('Country Name')\r\n",
        "plt.ylabel('Fatality Rate')\r\n",
        "plt.title('Top 20 Highest Fatality Rate Countries')\r\n",
        "plt.xticks(rotation=90)\r\n",
        "plt.tight_layout()\r\n",
        "plt.show()"
      ],
      "execution_count": 16,
      "outputs": [
        {
          "output_type": "display_data",
          "data": {
            "image/png": "[encoded data removed]",
            "text/plain": [
              "<Figure size 1440x576 with 1 Axes>"
            ]
          },
          "metadata": {
            "tags": [],
            "needs_background": "light"
          }
        }
      ]
    },
    {
      "cell_type": "code",
      "metadata": {
        "id": "1uvxFc0d14x0"
      },
      "source": [
        "# testing commit"
      ],
      "execution_count": null,
      "outputs": []
    }
  ]
}